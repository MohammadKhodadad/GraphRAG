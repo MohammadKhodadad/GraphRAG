{
 "cells": [
  {
   "cell_type": "code",
   "execution_count": 1,
   "metadata": {},
   "outputs": [],
   "source": [
    "import pandas as pd"
   ]
  },
  {
   "cell_type": "code",
   "execution_count": 2,
   "metadata": {},
   "outputs": [],
   "source": [
    "data=pd.read_csv(\"data/pubchem_dump_with_wiki_text.csv\")"
   ]
  },
  {
   "cell_type": "code",
   "execution_count": 42,
   "metadata": {},
   "outputs": [],
   "source": [
    "multi_hop=[]\n",
    "row=data[data.edge!='[]'].iloc[0]\n",
    "edges=[int(item)-1 for item in eval(row['edge']) if int(item)<=50000]\n",
    "for edge in edges:\n",
    "    next_row=data.iloc[edge]\n",
    "    if len(next_row['combined_text'])>10:\n",
    "        qa={'source':row['name'],'bridge':next_row['name'],'text1':row['combined_text'],'text2':next_row['combined_text'],}\n",
    "        multi_hop.append(qa)"
   ]
  },
  {
   "cell_type": "code",
   "execution_count": null,
   "metadata": {},
   "outputs": [],
   "source": []
  }
 ],
 "metadata": {
  "kernelspec": {
   "display_name": "Python 3",
   "language": "python",
   "name": "python3"
  },
  "language_info": {
   "codemirror_mode": {
    "name": "ipython",
    "version": 3
   },
   "file_extension": ".py",
   "mimetype": "text/x-python",
   "name": "python",
   "nbconvert_exporter": "python",
   "pygments_lexer": "ipython3",
   "version": "3.10.11"
  }
 },
 "nbformat": 4,
 "nbformat_minor": 2
}
